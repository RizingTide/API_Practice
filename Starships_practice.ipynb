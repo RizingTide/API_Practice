{
 "cells": [
  {
   "attachments": {},
   "cell_type": "markdown",
   "metadata": {},
   "source": [
    "Problems using the Starship Resource from:  https://swapi.dev/documentation\n",
    "1.  Write a function that returns all of the models of starships\n",
    "2.  Write a function that finds the ship that can carry the most cargo\n",
    "3.  Write a function that finds the number of crew and passengers on a given starship\n",
    "4.  Write a function to find the most expensive starship\n",
    "5.  Write a function to find all of the starships that are less than a given price\n",
    "6.  Write a function to find the starships that have appeared in a given number of films\n",
    "7.  Write a function that finds the shortest and longest ship. Return should be the names of the ship in addition to the numeric values. Convert values into feet."
   ]
  },
  {
   "cell_type": "code",
   "execution_count": 3,
   "metadata": {},
   "outputs": [],
   "source": [
    "import requests\n",
    "import json\n",
    "from pprint import pp"
   ]
  },
  {
   "cell_type": "code",
   "execution_count": 5,
   "metadata": {},
   "outputs": [
    {
     "name": "stdout",
     "output_type": "stream",
     "text": [
      "[{'name': 'CR90 corvette', 'model': 'CR90 corvette', 'manufacturer': 'Corellian Engineering Corporation', 'cost_in_credits': '3500000', 'length': '150', 'max_atmosphering_speed': '950', 'crew': '30-165', 'passengers': '600', 'cargo_capacity': '3000000', 'consumables': '1 year', 'hyperdrive_rating': '2.0', 'MGLT': '60', 'starship_class': 'corvette', 'pilots': [], 'films': ['https://swapi.dev/api/films/1/', 'https://swapi.dev/api/films/3/', 'https://swapi.dev/api/films/6/'], 'created': '2014-12-10T14:20:33.369000Z', 'edited': '2014-12-20T21:23:49.867000Z', 'url': 'https://swapi.dev/api/starships/2/'}, {'name': 'Star Destroyer', 'model': 'Imperial I-class Star Destroyer', 'manufacturer': 'Kuat Drive Yards', 'cost_in_credits': '150000000', 'length': '1,600', 'max_atmosphering_speed': '975', 'crew': '47,060', 'passengers': 'n/a', 'cargo_capacity': '36000000', 'consumables': '2 years', 'hyperdrive_rating': '2.0', 'MGLT': '60', 'starship_class': 'Star Destroyer', 'pilots': [], 'films': ['https://swapi.dev/api/films/1/', 'https://swapi.dev/api/films/2/', 'https://swapi.dev/api/films/3/'], 'created': '2014-12-10T15:08:19.848000Z', 'edited': '2014-12-20T21:23:49.870000Z', 'url': 'https://swapi.dev/api/starships/3/'}, {'name': 'Sentinel-class landing craft', 'model': 'Sentinel-class landing craft', 'manufacturer': 'Sienar Fleet Systems, Cyngus Spaceworks', 'cost_in_credits': '240000', 'length': '38', 'max_atmosphering_speed': '1000', 'crew': '5', 'passengers': '75', 'cargo_capacity': '180000', 'consumables': '1 month', 'hyperdrive_rating': '1.0', 'MGLT': '70', 'starship_class': 'landing craft', 'pilots': [], 'films': ['https://swapi.dev/api/films/1/'], 'created': '2014-12-10T15:48:00.586000Z', 'edited': '2014-12-20T21:23:49.873000Z', 'url': 'https://swapi.dev/api/starships/5/'}, {'name': 'Death Star', 'model': 'DS-1 Orbital Battle Station', 'manufacturer': 'Imperial Department of Military Research, Sienar Fleet Systems', 'cost_in_credits': '1000000000000', 'length': '120000', 'max_atmosphering_speed': 'n/a', 'crew': '342,953', 'passengers': '843,342', 'cargo_capacity': '1000000000000', 'consumables': '3 years', 'hyperdrive_rating': '4.0', 'MGLT': '10', 'starship_class': 'Deep Space Mobile Battlestation', 'pilots': [], 'films': ['https://swapi.dev/api/films/1/'], 'created': '2014-12-10T16:36:50.509000Z', 'edited': '2014-12-20T21:26:24.783000Z', 'url': 'https://swapi.dev/api/starships/9/'}, {'name': 'Millennium Falcon', 'model': 'YT-1300 light freighter', 'manufacturer': 'Corellian Engineering Corporation', 'cost_in_credits': '100000', 'length': '34.37', 'max_atmosphering_speed': '1050', 'crew': '4', 'passengers': '6', 'cargo_capacity': '100000', 'consumables': '2 months', 'hyperdrive_rating': '0.5', 'MGLT': '75', 'starship_class': 'Light freighter', 'pilots': ['https://swapi.dev/api/people/13/', 'https://swapi.dev/api/people/14/', 'https://swapi.dev/api/people/25/', 'https://swapi.dev/api/people/31/'], 'films': ['https://swapi.dev/api/films/1/', 'https://swapi.dev/api/films/2/', 'https://swapi.dev/api/films/3/'], 'created': '2014-12-10T16:59:45.094000Z', 'edited': '2014-12-20T21:23:49.880000Z', 'url': 'https://swapi.dev/api/starships/10/'}, {'name': 'Y-wing', 'model': 'BTL Y-wing', 'manufacturer': 'Koensayr Manufacturing', 'cost_in_credits': '134999', 'length': '14', 'max_atmosphering_speed': '1000km', 'crew': '2', 'passengers': '0', 'cargo_capacity': '110', 'consumables': '1 week', 'hyperdrive_rating': '1.0', 'MGLT': '80', 'starship_class': 'assault starfighter', 'pilots': [], 'films': ['https://swapi.dev/api/films/1/', 'https://swapi.dev/api/films/2/', 'https://swapi.dev/api/films/3/'], 'created': '2014-12-12T11:00:39.817000Z', 'edited': '2014-12-20T21:23:49.883000Z', 'url': 'https://swapi.dev/api/starships/11/'}, {'name': 'X-wing', 'model': 'T-65 X-wing', 'manufacturer': 'Incom Corporation', 'cost_in_credits': '149999', 'length': '12.5', 'max_atmosphering_speed': '1050', 'crew': '1', 'passengers': '0', 'cargo_capacity': '110', 'consumables': '1 week', 'hyperdrive_rating': '1.0', 'MGLT': '100', 'starship_class': 'Starfighter', 'pilots': ['https://swapi.dev/api/people/1/', 'https://swapi.dev/api/people/9/', 'https://swapi.dev/api/people/18/', 'https://swapi.dev/api/people/19/'], 'films': ['https://swapi.dev/api/films/1/', 'https://swapi.dev/api/films/2/', 'https://swapi.dev/api/films/3/'], 'created': '2014-12-12T11:19:05.340000Z', 'edited': '2014-12-20T21:23:49.886000Z', 'url': 'https://swapi.dev/api/starships/12/'}, {'name': 'TIE Advanced x1', 'model': 'Twin Ion Engine Advanced x1', 'manufacturer': 'Sienar Fleet Systems', 'cost_in_credits': 'unknown', 'length': '9.2', 'max_atmosphering_speed': '1200', 'crew': '1', 'passengers': '0', 'cargo_capacity': '150', 'consumables': '5 days', 'hyperdrive_rating': '1.0', 'MGLT': '105', 'starship_class': 'Starfighter', 'pilots': ['https://swapi.dev/api/people/4/'], 'films': ['https://swapi.dev/api/films/1/'], 'created': '2014-12-12T11:21:32.991000Z', 'edited': '2014-12-20T21:23:49.889000Z', 'url': 'https://swapi.dev/api/starships/13/'}, {'name': 'Executor', 'model': 'Executor-class star dreadnought', 'manufacturer': 'Kuat Drive Yards, Fondor Shipyards', 'cost_in_credits': '1143350000', 'length': '19000', 'max_atmosphering_speed': 'n/a', 'crew': '279,144', 'passengers': '38000', 'cargo_capacity': '250000000', 'consumables': '6 years', 'hyperdrive_rating': '2.0', 'MGLT': '40', 'starship_class': 'Star dreadnought', 'pilots': [], 'films': ['https://swapi.dev/api/films/2/', 'https://swapi.dev/api/films/3/'], 'created': '2014-12-15T12:31:42.547000Z', 'edited': '2014-12-20T21:23:49.893000Z', 'url': 'https://swapi.dev/api/starships/15/'}, {'name': 'Rebel transport', 'model': 'GR-75 medium transport', 'manufacturer': 'Gallofree Yards, Inc.', 'cost_in_credits': 'unknown', 'length': '90', 'max_atmosphering_speed': '650', 'crew': '6', 'passengers': '90', 'cargo_capacity': '19000000', 'consumables': '6 months', 'hyperdrive_rating': '4.0', 'MGLT': '20', 'starship_class': 'Medium transport', 'pilots': [], 'films': ['https://swapi.dev/api/films/2/', 'https://swapi.dev/api/films/3/'], 'created': '2014-12-15T12:34:52.264000Z', 'edited': '2014-12-20T21:23:49.895000Z', 'url': 'https://swapi.dev/api/starships/17/'}, {'name': 'Slave 1', 'model': 'Firespray-31-class patrol and attack', 'manufacturer': 'Kuat Systems Engineering', 'cost_in_credits': 'unknown', 'length': '21.5', 'max_atmosphering_speed': '1000', 'crew': '1', 'passengers': '6', 'cargo_capacity': '70000', 'consumables': '1 month', 'hyperdrive_rating': '3.0', 'MGLT': '70', 'starship_class': 'Patrol craft', 'pilots': ['https://swapi.dev/api/people/22/'], 'films': ['https://swapi.dev/api/films/2/', 'https://swapi.dev/api/films/5/'], 'created': '2014-12-15T13:00:56.332000Z', 'edited': '2014-12-20T21:23:49.897000Z', 'url': 'https://swapi.dev/api/starships/21/'}, {'name': 'Imperial shuttle', 'model': 'Lambda-class T-4a shuttle', 'manufacturer': 'Sienar Fleet Systems', 'cost_in_credits': '240000', 'length': '20', 'max_atmosphering_speed': '850', 'crew': '6', 'passengers': '20', 'cargo_capacity': '80000', 'consumables': '2 months', 'hyperdrive_rating': '1.0', 'MGLT': '50', 'starship_class': 'Armed government transport', 'pilots': ['https://swapi.dev/api/people/1/', 'https://swapi.dev/api/people/13/', 'https://swapi.dev/api/people/14/'], 'films': ['https://swapi.dev/api/films/2/', 'https://swapi.dev/api/films/3/'], 'created': '2014-12-15T13:04:47.235000Z', 'edited': '2014-12-20T21:23:49.900000Z', 'url': 'https://swapi.dev/api/starships/22/'}, {'name': 'EF76 Nebulon-B escort frigate', 'model': 'EF76 Nebulon-B escort frigate', 'manufacturer': 'Kuat Drive Yards', 'cost_in_credits': '8500000', 'length': '300', 'max_atmosphering_speed': '800', 'crew': '854', 'passengers': '75', 'cargo_capacity': '6000000', 'consumables': '2 years', 'hyperdrive_rating': '2.0', 'MGLT': '40', 'starship_class': 'Escort ship', 'pilots': [], 'films': ['https://swapi.dev/api/films/2/', 'https://swapi.dev/api/films/3/'], 'created': '2014-12-15T13:06:30.813000Z', 'edited': '2014-12-20T21:23:49.902000Z', 'url': 'https://swapi.dev/api/starships/23/'}, {'name': 'Calamari Cruiser', 'model': 'MC80 Liberty type Star Cruiser', 'manufacturer': 'Mon Calamari shipyards', 'cost_in_credits': '104000000', 'length': '1200', 'max_atmosphering_speed': 'n/a', 'crew': '5400', 'passengers': '1200', 'cargo_capacity': 'unknown', 'consumables': '2 years', 'hyperdrive_rating': '1.0', 'MGLT': '60', 'starship_class': 'Star Cruiser', 'pilots': [], 'films': ['https://swapi.dev/api/films/3/'], 'created': '2014-12-18T10:54:57.804000Z', 'edited': '2014-12-20T21:23:49.904000Z', 'url': 'https://swapi.dev/api/starships/27/'}, {'name': 'A-wing', 'model': 'RZ-1 A-wing Interceptor', 'manufacturer': 'Alliance Underground Engineering, Incom Corporation', 'cost_in_credits': '175000', 'length': '9.6', 'max_atmosphering_speed': '1300', 'crew': '1', 'passengers': '0', 'cargo_capacity': '40', 'consumables': '1 week', 'hyperdrive_rating': '1.0', 'MGLT': '120', 'starship_class': 'Starfighter', 'pilots': ['https://swapi.dev/api/people/29/'], 'films': ['https://swapi.dev/api/films/3/'], 'created': '2014-12-18T11:16:34.542000Z', 'edited': '2014-12-20T21:23:49.907000Z', 'url': 'https://swapi.dev/api/starships/28/'}, {'name': 'B-wing', 'model': 'A/SF-01 B-wing starfighter', 'manufacturer': 'Slayn & Korpil', 'cost_in_credits': '220000', 'length': '16.9', 'max_atmosphering_speed': '950', 'crew': '1', 'passengers': '0', 'cargo_capacity': '45', 'consumables': '1 week', 'hyperdrive_rating': '2.0', 'MGLT': '91', 'starship_class': 'Assault Starfighter', 'pilots': [], 'films': ['https://swapi.dev/api/films/3/'], 'created': '2014-12-18T11:18:04.763000Z', 'edited': '2014-12-20T21:23:49.909000Z', 'url': 'https://swapi.dev/api/starships/29/'}, {'name': 'Republic Cruiser', 'model': 'Consular-class cruiser', 'manufacturer': 'Corellian Engineering Corporation', 'cost_in_credits': 'unknown', 'length': '115', 'max_atmosphering_speed': '900', 'crew': '9', 'passengers': '16', 'cargo_capacity': 'unknown', 'consumables': 'unknown', 'hyperdrive_rating': '2.0', 'MGLT': 'unknown', 'starship_class': 'Space cruiser', 'pilots': [], 'films': ['https://swapi.dev/api/films/4/'], 'created': '2014-12-19T17:01:31.488000Z', 'edited': '2014-12-20T21:23:49.912000Z', 'url': 'https://swapi.dev/api/starships/31/'}, {'name': 'Droid control ship', 'model': 'Lucrehulk-class Droid Control Ship', 'manufacturer': 'Hoersch-Kessel Drive, Inc.', 'cost_in_credits': 'unknown', 'length': '3170', 'max_atmosphering_speed': 'n/a', 'crew': '175', 'passengers': '139000', 'cargo_capacity': '4000000000', 'consumables': '500 days', 'hyperdrive_rating': '2.0', 'MGLT': 'unknown', 'starship_class': 'Droid control ship', 'pilots': [], 'films': ['https://swapi.dev/api/films/4/', 'https://swapi.dev/api/films/5/', 'https://swapi.dev/api/films/6/'], 'created': '2014-12-19T17:04:06.323000Z', 'edited': '2014-12-20T21:23:49.915000Z', 'url': 'https://swapi.dev/api/starships/32/'}, {'name': 'Naboo fighter', 'model': 'N-1 starfighter', 'manufacturer': 'Theed Palace Space Vessel Engineering Corps', 'cost_in_credits': '200000', 'length': '11', 'max_atmosphering_speed': '1100', 'crew': '1', 'passengers': '0', 'cargo_capacity': '65', 'consumables': '7 days', 'hyperdrive_rating': '1.0', 'MGLT': 'unknown', 'starship_class': 'Starfighter', 'pilots': ['https://swapi.dev/api/people/11/', 'https://swapi.dev/api/people/35/', 'https://swapi.dev/api/people/60/'], 'films': ['https://swapi.dev/api/films/4/', 'https://swapi.dev/api/films/5/'], 'created': '2014-12-19T17:39:17.582000Z', 'edited': '2014-12-20T21:23:49.917000Z', 'url': 'https://swapi.dev/api/starships/39/'}, {'name': 'Naboo Royal Starship', 'model': 'J-type 327 Nubian royal starship', 'manufacturer': 'Theed Palace Space Vessel Engineering Corps, Nubia Star Drives', 'cost_in_credits': 'unknown', 'length': '76', 'max_atmosphering_speed': '920', 'crew': '8', 'passengers': 'unknown', 'cargo_capacity': 'unknown', 'consumables': 'unknown', 'hyperdrive_rating': '1.8', 'MGLT': 'unknown', 'starship_class': 'yacht', 'pilots': ['https://swapi.dev/api/people/39/'], 'films': ['https://swapi.dev/api/films/4/'], 'created': '2014-12-19T17:45:03.506000Z', 'edited': '2014-12-20T21:23:49.919000Z', 'url': 'https://swapi.dev/api/starships/40/'}, {'name': 'Scimitar', 'model': 'Star Courier', 'manufacturer': 'Republic Sienar Systems', 'cost_in_credits': '55000000', 'length': '26.5', 'max_atmosphering_speed': '1180', 'crew': '1', 'passengers': '6', 'cargo_capacity': '2500000', 'consumables': '30 days', 'hyperdrive_rating': '1.5', 'MGLT': 'unknown', 'starship_class': 'Space Transport', 'pilots': ['https://swapi.dev/api/people/44/'], 'films': ['https://swapi.dev/api/films/4/'], 'created': '2014-12-20T09:39:56.116000Z', 'edited': '2014-12-20T21:23:49.922000Z', 'url': 'https://swapi.dev/api/starships/41/'}, {'name': 'J-type diplomatic barge', 'model': 'J-type diplomatic barge', 'manufacturer': 'Theed Palace Space Vessel Engineering Corps, Nubia Star Drives', 'cost_in_credits': '2000000', 'length': '39', 'max_atmosphering_speed': '2000', 'crew': '5', 'passengers': '10', 'cargo_capacity': 'unknown', 'consumables': '1 year', 'hyperdrive_rating': '0.7', 'MGLT': 'unknown', 'starship_class': 'Diplomatic barge', 'pilots': [], 'films': ['https://swapi.dev/api/films/5/'], 'created': '2014-12-20T11:05:51.237000Z', 'edited': '2014-12-20T21:23:49.925000Z', 'url': 'https://swapi.dev/api/starships/43/'}, {'name': 'AA-9 Coruscant freighter', 'model': 'Botajef AA-9 Freighter-Liner', 'manufacturer': 'Botajef Shipyards', 'cost_in_credits': 'unknown', 'length': '390', 'max_atmosphering_speed': 'unknown', 'crew': 'unknown', 'passengers': '30000', 'cargo_capacity': 'unknown', 'consumables': 'unknown', 'hyperdrive_rating': 'unknown', 'MGLT': 'unknown', 'starship_class': 'freighter', 'pilots': [], 'films': ['https://swapi.dev/api/films/5/'], 'created': '2014-12-20T17:24:23.509000Z', 'edited': '2014-12-20T21:23:49.928000Z', 'url': 'https://swapi.dev/api/starships/47/'}, {'name': 'Jedi starfighter', 'model': 'Delta-7 Aethersprite-class interceptor', 'manufacturer': 'Kuat Systems Engineering', 'cost_in_credits': '180000', 'length': '8', 'max_atmosphering_speed': '1150', 'crew': '1', 'passengers': '0', 'cargo_capacity': '60', 'consumables': '7 days', 'hyperdrive_rating': '1.0', 'MGLT': 'unknown', 'starship_class': 'Starfighter', 'pilots': ['https://swapi.dev/api/people/10/', 'https://swapi.dev/api/people/58/'], 'films': ['https://swapi.dev/api/films/5/', 'https://swapi.dev/api/films/6/'], 'created': '2014-12-20T17:35:23.906000Z', 'edited': '2014-12-20T21:23:49.930000Z', 'url': 'https://swapi.dev/api/starships/48/'}, {'name': 'H-type Nubian yacht', 'model': 'H-type Nubian yacht', 'manufacturer': 'Theed Palace Space Vessel Engineering Corps', 'cost_in_credits': 'unknown', 'length': '47.9', 'max_atmosphering_speed': '8000', 'crew': '4', 'passengers': 'unknown', 'cargo_capacity': 'unknown', 'consumables': 'unknown', 'hyperdrive_rating': '0.9', 'MGLT': 'unknown', 'starship_class': 'yacht', 'pilots': ['https://swapi.dev/api/people/35/'], 'films': ['https://swapi.dev/api/films/5/'], 'created': '2014-12-20T17:46:46.847000Z', 'edited': '2014-12-20T21:23:49.932000Z', 'url': 'https://swapi.dev/api/starships/49/'}, {'name': 'Republic Assault ship', 'model': 'Acclamator I-class assault ship', 'manufacturer': 'Rothana Heavy Engineering', 'cost_in_credits': 'unknown', 'length': '752', 'max_atmosphering_speed': 'unknown', 'crew': '700', 'passengers': '16000', 'cargo_capacity': '11250000', 'consumables': '2 years', 'hyperdrive_rating': '0.6', 'MGLT': 'unknown', 'starship_class': 'assault ship', 'pilots': [], 'films': ['https://swapi.dev/api/films/5/'], 'created': '2014-12-20T18:08:42.926000Z', 'edited': '2014-12-20T21:23:49.935000Z', 'url': 'https://swapi.dev/api/starships/52/'}, {'name': 'Solar Sailer', 'model': 'Punworcca 116-class interstellar sloop', 'manufacturer': 'Huppla Pasa Tisc Shipwrights Collective', 'cost_in_credits': '35700', 'length': '15.2', 'max_atmosphering_speed': '1600', 'crew': '3', 'passengers': '11', 'cargo_capacity': '240', 'consumables': '7 days', 'hyperdrive_rating': '1.5', 'MGLT': 'unknown', 'starship_class': 'yacht', 'pilots': [], 'films': ['https://swapi.dev/api/films/5/'], 'created': '2014-12-20T18:37:56.969000Z', 'edited': '2014-12-20T21:23:49.937000Z', 'url': 'https://swapi.dev/api/starships/58/'}, {'name': 'Trade Federation cruiser', 'model': 'Providence-class carrier/destroyer', 'manufacturer': 'Rendili StarDrive, Free Dac Volunteers Engineering corps.', 'cost_in_credits': '125000000', 'length': '1088', 'max_atmosphering_speed': '1050', 'crew': '600', 'passengers': '48247', 'cargo_capacity': '50000000', 'consumables': '4 years', 'hyperdrive_rating': '1.5', 'MGLT': 'unknown', 'starship_class': 'capital ship', 'pilots': ['https://swapi.dev/api/people/10/', 'https://swapi.dev/api/people/11/'], 'films': ['https://swapi.dev/api/films/6/'], 'created': '2014-12-20T19:40:21.902000Z', 'edited': '2014-12-20T21:23:49.941000Z', 'url': 'https://swapi.dev/api/starships/59/'}, {'name': 'Theta-class T-2c shuttle', 'model': 'Theta-class T-2c shuttle', 'manufacturer': 'Cygnus Spaceworks', 'cost_in_credits': '1000000', 'length': '18.5', 'max_atmosphering_speed': '2000', 'crew': '5', 'passengers': '16', 'cargo_capacity': '50000', 'consumables': '56 days', 'hyperdrive_rating': '1.0', 'MGLT': 'unknown', 'starship_class': 'transport', 'pilots': [], 'films': ['https://swapi.dev/api/films/6/'], 'created': '2014-12-20T19:48:40.409000Z', 'edited': '2014-12-20T21:23:49.944000Z', 'url': 'https://swapi.dev/api/starships/61/'}, {'name': 'Republic attack cruiser', 'model': 'Senator-class Star Destroyer', 'manufacturer': 'Kuat Drive Yards, Allanteen Six shipyards', 'cost_in_credits': '59000000', 'length': '1137', 'max_atmosphering_speed': '975', 'crew': '7400', 'passengers': '2000', 'cargo_capacity': '20000000', 'consumables': '2 years', 'hyperdrive_rating': '1.0', 'MGLT': 'unknown', 'starship_class': 'star destroyer', 'pilots': [], 'films': ['https://swapi.dev/api/films/6/'], 'created': '2014-12-20T19:52:56.232000Z', 'edited': '2014-12-20T21:23:49.946000Z', 'url': 'https://swapi.dev/api/starships/63/'}, {'name': 'Naboo star skiff', 'model': 'J-type star skiff', 'manufacturer': 'Theed Palace Space Vessel Engineering Corps/Nubia Star Drives, Incorporated', 'cost_in_credits': 'unknown', 'length': '29.2', 'max_atmosphering_speed': '1050', 'crew': '3', 'passengers': '3', 'cargo_capacity': 'unknown', 'consumables': 'unknown', 'hyperdrive_rating': '0.5', 'MGLT': 'unknown', 'starship_class': 'yacht', 'pilots': ['https://swapi.dev/api/people/10/', 'https://swapi.dev/api/people/35/'], 'films': ['https://swapi.dev/api/films/6/'], 'created': '2014-12-20T19:55:15.396000Z', 'edited': '2014-12-20T21:23:49.948000Z', 'url': 'https://swapi.dev/api/starships/64/'}, {'name': 'Jedi Interceptor', 'model': 'Eta-2 Actis-class light interceptor', 'manufacturer': 'Kuat Systems Engineering', 'cost_in_credits': '320000', 'length': '5.47', 'max_atmosphering_speed': '1500', 'crew': '1', 'passengers': '0', 'cargo_capacity': '60', 'consumables': '2 days', 'hyperdrive_rating': '1.0', 'MGLT': 'unknown', 'starship_class': 'starfighter', 'pilots': ['https://swapi.dev/api/people/10/', 'https://swapi.dev/api/people/11/'], 'films': ['https://swapi.dev/api/films/6/'], 'created': '2014-12-20T19:56:57.468000Z', 'edited': '2014-12-20T21:23:49.951000Z', 'url': 'https://swapi.dev/api/starships/65/'}, {'name': 'arc-170', 'model': 'Aggressive Reconnaissance-170 starfighte', 'manufacturer': 'Incom Corporation, Subpro Corporation', 'cost_in_credits': '155000', 'length': '14.5', 'max_atmosphering_speed': '1000', 'crew': '3', 'passengers': '0', 'cargo_capacity': '110', 'consumables': '5 days', 'hyperdrive_rating': '1.0', 'MGLT': '100', 'starship_class': 'starfighter', 'pilots': [], 'films': ['https://swapi.dev/api/films/6/'], 'created': '2014-12-20T20:03:48.603000Z', 'edited': '2014-12-20T21:23:49.953000Z', 'url': 'https://swapi.dev/api/starships/66/'}, {'name': 'Banking clan frigte', 'model': 'Munificent-class star frigate', 'manufacturer': 'Hoersch-Kessel Drive, Inc, Gwori Revolutionary Industries', 'cost_in_credits': '57000000', 'length': '825', 'max_atmosphering_speed': 'unknown', 'crew': '200', 'passengers': 'unknown', 'cargo_capacity': '40000000', 'consumables': '2 years', 'hyperdrive_rating': '1.0', 'MGLT': 'unknown', 'starship_class': 'cruiser', 'pilots': [], 'films': ['https://swapi.dev/api/films/6/'], 'created': '2014-12-20T20:07:11.538000Z', 'edited': '2014-12-20T21:23:49.956000Z', 'url': 'https://swapi.dev/api/starships/68/'}, {'name': 'Belbullab-22 starfighter', 'model': 'Belbullab-22 starfighter', 'manufacturer': 'Feethan Ottraw Scalable Assemblies', 'cost_in_credits': '168000', 'length': '6.71', 'max_atmosphering_speed': '1100', 'crew': '1', 'passengers': '0', 'cargo_capacity': '140', 'consumables': '7 days', 'hyperdrive_rating': '6', 'MGLT': 'unknown', 'starship_class': 'starfighter', 'pilots': ['https://swapi.dev/api/people/10/', 'https://swapi.dev/api/people/79/'], 'films': ['https://swapi.dev/api/films/6/'], 'created': '2014-12-20T20:38:05.031000Z', 'edited': '2014-12-20T21:23:49.959000Z', 'url': 'https://swapi.dev/api/starships/74/'}, {'name': 'V-wing', 'model': 'Alpha-3 Nimbus-class V-wing starfighter', 'manufacturer': 'Kuat Systems Engineering', 'cost_in_credits': '102500', 'length': '7.9', 'max_atmosphering_speed': '1050', 'crew': '1', 'passengers': '0', 'cargo_capacity': '60', 'consumables': '15 hours', 'hyperdrive_rating': '1.0', 'MGLT': 'unknown', 'starship_class': 'starfighter', 'pilots': [], 'films': ['https://swapi.dev/api/films/6/'], 'created': '2014-12-20T20:43:04.349000Z', 'edited': '2014-12-20T21:23:49.961000Z', 'url': 'https://swapi.dev/api/starships/75/'}]\n"
     ]
    }
   ],
   "source": [
    "# function to get api request and put the paginated response into a list \n",
    "pages_list=[]\n",
    "def clean_data():\n",
    "    url=\"https://swapi.dev/api/starships/?page=1\"\n",
    "    # while function that will keep running through to the last page (until there is no next page)\n",
    "    while url:\n",
    "        pages = requests.get(url)\n",
    "        pages_json = pages.json()\n",
    "        pages_list.append(pages_json)\n",
    "        # store url as next page so the loop can start up again or end \n",
    "        url = pages_json[\"next\"]\n",
    "    return(pages_list)\n",
    "\n",
    "clean_data()\n",
    "\n",
    "# function to clean up the data in the list\n",
    "clean_data_list=[]\n",
    "def clean_results():\n",
    "    for i in range(len(pages_list)):\n",
    "        results_pages=pages_list[i][\"results\"]\n",
    "        for results in results_pages:\n",
    "            clean_data_list.append(results)\n",
    "    return clean_data_list\n",
    "\n",
    "print(clean_results())\n",
    "\n"
   ]
  },
  {
   "cell_type": "code",
   "execution_count": 20,
   "metadata": {},
   "outputs": [
    {
     "name": "stdout",
     "output_type": "stream",
     "text": [
      "Here is a list of all the models:\n",
      "\n",
      "['CR90 corvette', 'Imperial I-class Star Destroyer', 'Sentinel-class landing craft', 'DS-1 Orbital Battle Station', 'YT-1300 light freighter', 'BTL Y-wing', 'T-65 X-wing', 'Twin Ion Engine Advanced x1', 'Executor-class star dreadnought', 'GR-75 medium transport', 'Firespray-31-class patrol and attack', 'Lambda-class T-4a shuttle', 'EF76 Nebulon-B escort frigate', 'MC80 Liberty type Star Cruiser', 'RZ-1 A-wing Interceptor', 'A/SF-01 B-wing starfighter', 'Consular-class cruiser', 'Lucrehulk-class Droid Control Ship', 'N-1 starfighter', 'J-type 327 Nubian royal starship', 'Star Courier', 'J-type diplomatic barge', 'Botajef AA-9 Freighter-Liner', 'Delta-7 Aethersprite-class interceptor', 'H-type Nubian yacht', 'Acclamator I-class assault ship', 'Punworcca 116-class interstellar sloop', 'Providence-class carrier/destroyer', 'Theta-class T-2c shuttle', 'Senator-class Star Destroyer', 'J-type star skiff', 'Eta-2 Actis-class light interceptor', 'Aggressive Reconnaissance-170 starfighte', 'Munificent-class star frigate', 'Belbullab-22 starfighter', 'Alpha-3 Nimbus-class V-wing starfighter']\n",
      "['30-165', '47,060', '5', '342,953', '4', '2', '1', '1', '279,144', '6', '1', '6', '854', '5400', '1', '1', '9', '175', '1', '8', '1', '5', 'unknown', '1', '4', '700', '3', '600', '5', '7400', '3', '1', '3', '200', '1', '1']\n"
     ]
    }
   ],
   "source": [
    "# Write a function that returns all of the models of starships\n",
    "\n",
    "def model_starships():\n",
    "    model_list=[]\n",
    "    for i in range(len(clean_data_list)):\n",
    "        model_list.append(clean_data_list[i][\"model\"])\n",
    "    return model_list\n",
    "\n",
    "print(\"Here is a list of all the models:\\n\\n{}\".format(model_starships()))\n",
    "\n",
    "# Function to see a list of all the crew sizes\n",
    "def crew_starships():\n",
    "    crew_list=[]\n",
    "    for i in range(len(clean_data_list)):\n",
    "        crew_list.append(clean_data_list[i][\"crew\"])\n",
    "    return crew_list\n",
    "\n",
    "print(crew_starships())\n"
   ]
  },
  {
   "cell_type": "code",
   "execution_count": 37,
   "metadata": {},
   "outputs": [
    {
     "name": "stdout",
     "output_type": "stream",
     "text": [
      "The Death Star ship can carry the most cargo cargo at 1000000000000\n"
     ]
    }
   ],
   "source": [
    "# Write a function that finds the ship that can carry the most cargo\n",
    "most_cargo_list=[]\n",
    "def most_cargo():\n",
    "    most_cargo_num=int(clean_data_list[0][\"cargo_capacity\"])\n",
    "    for i in range(len(clean_data_list)):\n",
    "        # use try except to get past value error (if there is a n/a)\n",
    "        try:\n",
    "            if int(clean_data_list[i][\"cargo_capacity\"]) > most_cargo_num:\n",
    "                most_cargo_num = int(clean_data_list[i][\"cargo_capacity\"])\n",
    "                num=i\n",
    "        except ValueError:\n",
    "            continue\n",
    "    return most_cargo_num, clean_data_list[num][\"name\"]\n",
    "\n",
    "cargo=most_cargo()\n",
    "\n",
    "print(\"The {} ship can carry the most cargo cargo at {}\".format(cargo[1], cargo[0]))"
   ]
  },
  {
   "cell_type": "code",
   "execution_count": 46,
   "metadata": {},
   "outputs": [
    {
     "name": "stdout",
     "output_type": "stream",
     "text": [
      "The Death Star starship has 342,953 crew and 843,342 passsangers on board.\n"
     ]
    }
   ],
   "source": [
    "# Write a function that finds the number of crew and passengers on a given starship\n",
    "\n",
    "# Ask for user input \n",
    "starship_name= input(\"What starship would you like to know more about?\")\n",
    "def num_crew(starship_name):\n",
    "    crew_stats=[]\n",
    "    for i in range(len(clean_data_list)):\n",
    "        if clean_data_list[i][\"name\"] == starship_name:\n",
    "            crew_stats.append(clean_data_list[i][\"crew\"])\n",
    "            crew_stats.append(clean_data_list[i][\"passengers\"])\n",
    "            return (crew_stats)\n",
    "        \n",
    "crew_pass = num_crew(starship_name)\n",
    "\n",
    "print(\"The {} starship has {} crew and {} passsangers on board.\".format(starship_name, crew_pass[0], crew_pass[1]))\n",
    "\n",
    "\n",
    "#         if clean_data_list[i][\"name\"] == starship_name:\n",
    "#             crew_stats.append(clean_data_list[i][\"crew\"])\n",
    "#             crew_stats.append(clean_data_list[i][\"passengers\"])\n",
    "#     return crew_stats\n",
    "# variable=num_crew(starship_name)\n",
    "# print(variable)\n",
    "#print(\"The {} starship has {} crew and {} passsangers on board.\".format(starship_name, crew_pass[0], crew_pass[1]))"
   ]
  },
  {
   "cell_type": "code",
   "execution_count": 44,
   "metadata": {},
   "outputs": [
    {
     "name": "stdout",
     "output_type": "stream",
     "text": [
      "The Death Star is the most expensive starship at a cost of 1000000000000\n"
     ]
    }
   ],
   "source": [
    "# Write a function to find the most expensive starship\n",
    "\n",
    "def expensive_starship():\n",
    "    money=[]\n",
    "    for i in range(len(clean_data_list)):\n",
    "        # Check to see if the data is numeric \n",
    "        if clean_data_list[i][\"cost_in_credits\"].isnumeric():\n",
    "            # Sort sorts from 1st element in the tuple\n",
    "            money.append((int(clean_data_list[i][\"cost_in_credits\"]), clean_data_list[i][\"name\"]))\n",
    "    money.sort()\n",
    "    # the last index will be the largest value \n",
    "    return (money[-1])\n",
    "\n",
    "monies=expensive_starship()\n",
    "\n",
    "print(\"The {} is the most expensive starship at a cost of {}\".format(monies[1], monies[0]))\n"
   ]
  },
  {
   "cell_type": "code",
   "execution_count": 50,
   "metadata": {},
   "outputs": [
    {
     "name": "stdout",
     "output_type": "stream",
     "text": [
      "Here are the list of all the starships that are within your pricelimit:\n",
      "\n",
      "[('Millennium Falcon', 100000), ('Y-wing', 134999), ('X-wing', 149999), ('A-wing', 175000), ('B-wing', 220000), ('Naboo fighter', 200000), ('Jedi starfighter', 180000), ('Solar Sailer', 35700), ('arc-170', 155000), ('Belbullab-22 starfighter', 168000), ('V-wing', 102500)]\n"
     ]
    }
   ],
   "source": [
    "# Write a function to find all of the starships that are less than a given price\n",
    "\n",
    "# Ask for user input and store in int form \n",
    "price_lim= int(input(\"What is your price limit for the starships you are interested in ?\"))\n",
    "\n",
    "def ships_in_price(price_lim):\n",
    "    ships_list=[]\n",
    "    for i in range(len(clean_data_list)):\n",
    "        # Get past ValueError (if some values are n/a and can't be turned into an int)\n",
    "        try:\n",
    "            num = int(clean_data_list[i][\"cost_in_credits\"])\n",
    "        except ValueError:\n",
    "            continue\n",
    "        if num < price_lim:\n",
    "            ships_list.append((clean_data_list[i][\"name\"], num))\n",
    "    return ships_list\n",
    "\n",
    "ships=ships_in_price(price_lim)\n",
    "\n",
    "print(\"Here are the list of all the starships that are within your pricelimit:\\n\\n{}\".format(ships))\n",
    "        "
   ]
  },
  {
   "cell_type": "code",
   "execution_count": 52,
   "metadata": {},
   "outputs": [
    {
     "name": "stdout",
     "output_type": "stream",
     "text": [
      "Here is a list of starships that have appeared in at least 3# of films:\n",
      "\n",
      "[('CR90 corvette', 3), ('Star Destroyer', 3), ('Millennium Falcon', 3), ('Y-wing', 3), ('X-wing', 3), ('Droid control ship', 3)]\n"
     ]
    }
   ],
   "source": [
    "# Write a function to find the starships that have appeared in a given number of films\n",
    "\n",
    "# Ask for user input and store in int from \n",
    "film_num= int(input(\"How many films do you want to check for?\"))\n",
    "\n",
    "def film_lim(film_num):\n",
    "    film_list=[]\n",
    "    for i in range(len(clean_data_list)):\n",
    "        # Check to see if they've apperared in at least that many films \n",
    "        if len(clean_data_list[i][\"films\"]) >= film_num:\n",
    "            film_list.append((clean_data_list[i][\"name\"], len(clean_data_list[i][\"films\"])))\n",
    "    return film_list\n",
    "\n",
    "film_stats = film_lim(film_num)\n",
    "\n",
    "print(\"Here is a list of starships that have appeared in at least {}# of films:\\n\\n{}\".format(film_num, film_stats))"
   ]
  },
  {
   "cell_type": "code",
   "execution_count": 77,
   "metadata": {},
   "outputs": [
    {
     "name": "stdout",
     "output_type": "stream",
     "text": [
      "The shortest ship is the Jedi starfighter at a length of 0.67 ft\n",
      "The longest ship is the Death Star at a length of 10000.00 ft\n"
     ]
    }
   ],
   "source": [
    "# Write a function that finds the shortest and longest ship. Return should be the names of the ship in addition to the numeric values. Convert values into feet.\n",
    "\n",
    "def size_ship():\n",
    "    # Initialize the shortest/longest from the start \n",
    "    shortest = int(clean_data_list[0][\"length\"])\n",
    "    longest =  int(clean_data_list[0][\"length\"])\n",
    "    for i in range(len(clean_data_list)):\n",
    "        # Get past value error (if there is n/a and cant turn into int)\n",
    "        # store index in a variable \n",
    "        try: \n",
    "            if int(clean_data_list[i][\"length\"]) > longest:\n",
    "                longest = int(clean_data_list[i][\"length\"])\n",
    "                num_l=i\n",
    "            elif int(clean_data_list[i][\"length\"]) < shortest:\n",
    "                shortest = int(clean_data_list[i][\"length\"])\n",
    "                num_s=i\n",
    "        except ValueError:\n",
    "            continue \n",
    "    # Convert from inches to ft\n",
    "    longest = longest/12\n",
    "    shortest = shortest/12\n",
    "    \n",
    "    return [(shortest, clean_data_list[num_s][\"name\"]), (longest, clean_data_list[num_l][\"name\"])]\n",
    "\n",
    "size_stats = size_ship()\n",
    "\n",
    "print(\"The shortest ship is the {} at a length of {:.2f} ft\\nThe longest ship is the {} at a length of {:.2f} ft\".format(size_stats[0][1],size_stats[0][0], size_stats[1][1],  size_stats[1][0]))\n",
    "        \n",
    "        "
   ]
  },
  {
   "attachments": {},
   "cell_type": "markdown",
   "metadata": {},
   "source": [
    "Requirements:\n",
    "    1. Create a function for finding the cargo capacity which is 'unknown' and the names starts with 'Naboo'and return a list with their name,model and pilots.\n",
    "    2. Write a function to find the starship_class with no passengers(0) and return in a list.\n",
    "    3. Find length and crew with minimum 1 pilots and 1 films\n",
    "    4. Find minimum and maximum of max-atmosphering-speed where the starship-class is starfighter and put them with manufature,length,and crew in 2 dictionaries. one for min_speed and other dict for max_speed.\n",
    "    5. for given model , find the hyperdrive_rating and 'MGLT'.\n",
    "    Additional Questions:\n",
    "    problem 2 - Avoid the duplicates\n",
    "    output:{'Starfighter', 'assault starfighter', 'starfighter', 'Assault Starfighter'}\n",
    "    problem 2 - find how many time repeat that words in the list and return them  in the dictionary\n",
    "    output:\n",
    "    {'assault starfighter': 1, 'Starfighter': 5, 'Assault Starfighter': 1, 'starfighter': 4}\n",
    "    problem 3 - print the dictioary with all length values and crew values as a list inside the dict and keep key as Length_list, crew_list. Find the 2nd maximum of length and 2nd max of crew.\n",
    "    output:{'Length_list': [9.2, 9.6, 76.0, 26.5, 47.9], 'crew_list': ['1', '1', '8', '1', '4']}\n",
    "            Second Maximum Length= 47.9\n",
    "            Second Maximum Crew = 4\n",
    "    problem 5 -get that model from the user"
   ]
  }
 ],
 "metadata": {
  "kernelspec": {
   "display_name": "Python 3",
   "language": "python",
   "name": "python3"
  },
  "language_info": {
   "codemirror_mode": {
    "name": "ipython",
    "version": 3
   },
   "file_extension": ".py",
   "mimetype": "text/x-python",
   "name": "python",
   "nbconvert_exporter": "python",
   "pygments_lexer": "ipython3",
   "version": "3.11.0"
  },
  "orig_nbformat": 4,
  "vscode": {
   "interpreter": {
    "hash": "aee8b7b246df8f9039afb4144a1f6fd8d2ca17a180786b69acc140d282b71a49"
   }
  }
 },
 "nbformat": 4,
 "nbformat_minor": 2
}

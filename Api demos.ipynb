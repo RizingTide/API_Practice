{
 "cells": [
  {
   "cell_type": "code",
   "execution_count": 2,
   "metadata": {},
   "outputs": [],
   "source": [
    "import requests\n",
    "import json\n",
    "from pprint import pp"
   ]
  },
  {
   "attachments": {},
   "cell_type": "markdown",
   "metadata": {},
   "source": [
    "Get Request HTTP methods you’ll use when working with REST APIs. This method allows you to retrieve resources from a given API. GET is a read-only operation\n"
   ]
  },
  {
   "cell_type": "code",
   "execution_count": 10,
   "metadata": {},
   "outputs": [
    {
     "name": "stdout",
     "output_type": "stream",
     "text": [
      "{'userId': 1, 'id': 1, 'title': 'delectus aut autem', 'completed': False}\n",
      "200\n",
      "{'Date': 'Wed, 04 Jan 2023 14:52:17 GMT', 'Content-Type': 'application/json; charset=utf-8', 'Transfer-Encoding': 'chunked', 'Connection': 'keep-alive', 'x-powered-by': 'Express', 'x-ratelimit-limit': '1000', 'x-ratelimit-remaining': '999', 'x-ratelimit-reset': '1640243547', 'vary': 'Origin, Accept-Encoding', 'access-control-allow-credentials': 'true', 'cache-control': 'max-age=43200', 'pragma': 'no-cache', 'expires': '-1', 'x-content-type-options': 'nosniff', 'etag': 'W/\"53-hfEnumeNh6YirfjyjaujcOPPT+s\"', 'via': '1.1 vegur', 'CF-Cache-Status': 'HIT', 'Age': '1909', 'Server-Timing': 'cf-q-config;dur=6.0000456869602e-06', 'Report-To': '{\"endpoints\":[{\"url\":\"https:\\\\/\\\\/a.nel.cloudflare.com\\\\/report\\\\/v3?s=4R9M4MO%2FXC15rKDYo1Dxp9XABCjVCx1MCR0EIhEcZts2PDxAfv9KN62qtyjFi581KvxDe5wgVh6S5MhlYbTFb%2FVbQBD0M49YcBqo%2FH%2FlGoyvTohqKrt6WC5XUrMoQoeZErfjzqFV4QgRgQFXNy8lj%2FBYG7PBgASrw6wW\"}],\"group\":\"cf-nel\",\"max_age\":604800}', 'NEL': '{\"success_fraction\":0,\"report_to\":\"cf-nel\",\"max_age\":604800}', 'Server': 'cloudflare', 'CF-RAY': '7844cc10ffcc8c72-EWR', 'Content-Encoding': 'gzip', 'alt-svc': 'h3=\":443\"; ma=86400, h3-29=\":443\"; ma=86400'}\n",
      "application/json; charset=utf-8\n"
     ]
    }
   ],
   "source": [
    "api_url = \"https://jsonplaceholder.typicode.com/todos/1\"\n",
    "response= requests.get(api_url)\n",
    "r_json= response.json()\n",
    "\n",
    "print(r_json)\n",
    "print(response.status_code)\n",
    "print(response.headers)\n",
    "print(response.headers[\"Content-Type\"])"
   ]
  },
  {
   "attachments": {},
   "cell_type": "markdown",
   "metadata": {},
   "source": [
    "Post Request "
   ]
  },
  {
   "cell_type": "code",
   "execution_count": 11,
   "metadata": {},
   "outputs": [
    {
     "name": "stdout",
     "output_type": "stream",
     "text": [
      "404\n",
      "{}\n",
      "{}\n"
     ]
    }
   ],
   "source": [
    "api_url = \"https://jsonplaceholder.typicode.com/todos/1\"\n",
    "todo = {\"userId\": 1, \"title\": \"Buy milk\", \"completed\": False}\n",
    "response=requests.post(api_url, json=todo)\n",
    "print(response.status_code)\n",
    "print(response.json())\n",
    "\n",
    "#alternate\n",
    "headers= {\"Content-Type\": \"application/json\"}\n",
    "response= requests.post(api_url, data=json.dumps(todo), headers=headers)\n",
    "print(response.json())\n"
   ]
  },
  {
   "attachments": {},
   "cell_type": "markdown",
   "metadata": {},
   "source": [
    "Put request "
   ]
  },
  {
   "cell_type": "code",
   "execution_count": 13,
   "metadata": {},
   "outputs": [
    {
     "data": {
      "text/plain": [
       "200"
      ]
     },
     "execution_count": 13,
     "metadata": {},
     "output_type": "execute_result"
    }
   ],
   "source": [
    "api_url = \"https://jsonplaceholder.typicode.com/todos/10\"\n",
    "todo = {\"userId\": 1, \"title\": \"Wash car\", \"completed\": True}\n",
    "response = requests.put(api_url, json=todo)\n",
    "response.json()\n",
    "\n",
    "\n",
    "response.status_code"
   ]
  },
  {
   "attachments": {},
   "cell_type": "markdown",
   "metadata": {},
   "source": [
    "Patch Request "
   ]
  },
  {
   "cell_type": "code",
   "execution_count": null,
   "metadata": {},
   "outputs": [],
   "source": [
    "api_url = \"https://jsonplaceholder.typicode.com/todos/10\"\n",
    "todo = {\"title\": \"Mow lawn\"}\n",
    "response = requests.patch(api_url, json=todo)\n",
    "response.json()"
   ]
  },
  {
   "attachments": {},
   "cell_type": "markdown",
   "metadata": {},
   "source": [
    "Delete Request"
   ]
  },
  {
   "cell_type": "code",
   "execution_count": null,
   "metadata": {},
   "outputs": [],
   "source": [
    "api_url = \"https://jsonplaceholder.typicode.com/todos/10\"\n",
    "response = requests.delete(api_url)\n",
    "response.json()"
   ]
  },
  {
   "cell_type": "code",
   "execution_count": 18,
   "metadata": {},
   "outputs": [
    {
     "name": "stdout",
     "output_type": "stream",
     "text": [
      "{'message': 'success',\n",
      " 'people': [{'name': 'Sergey Prokopyev', 'craft': 'ISS'},\n",
      "            {'name': 'Dmitry Petelin', 'craft': 'ISS'},\n",
      "            {'name': 'Frank Rubio', 'craft': 'ISS'},\n",
      "            {'name': 'Nicole Mann', 'craft': 'ISS'},\n",
      "            {'name': 'Josh Cassada', 'craft': 'ISS'},\n",
      "            {'name': 'Koichi Wakata', 'craft': 'ISS'},\n",
      "            {'name': 'Anna Kikina', 'craft': 'ISS'},\n",
      "            {'name': 'Fei Junlong', 'craft': 'Shenzhou 15'},\n",
      "            {'name': 'Deng Qingming', 'craft': 'Shenzhou 15'},\n",
      "            {'name': 'Zhang Lu', 'craft': 'Shenzhou 15'}],\n",
      " 'number': 10}\n",
      "['Sergey Prokopyev', 'Dmitry Petelin', 'Frank Rubio', 'Nicole Mann', 'Josh Cassada', 'Koichi Wakata', 'Anna Kikina', 'Fei Junlong', 'Deng Qingming', 'Zhang Lu']\n"
     ]
    }
   ],
   "source": [
    "response = requests.get(\"http://api.open-notify.org/astros.json\")\n",
    "r_json= response.json()\n",
    "\n",
    "pp(r_json)\n",
    "\n",
    "people=r_json[\"people\"]\n",
    "def get_names():\n",
    "    list=[]\n",
    "    for i in people:\n",
    "        list.append(i[\"name\"])\n",
    "    return list\n",
    "print(get_names())\n"
   ]
  }
 ],
 "metadata": {
  "kernelspec": {
   "display_name": "Python 3",
   "language": "python",
   "name": "python3"
  },
  "language_info": {
   "codemirror_mode": {
    "name": "ipython",
    "version": 3
   },
   "file_extension": ".py",
   "mimetype": "text/x-python",
   "name": "python",
   "nbconvert_exporter": "python",
   "pygments_lexer": "ipython3",
   "version": "3.11.0 (v3.11.0:deaf509e8f, Oct 24 2022, 14:43:23) [Clang 13.0.0 (clang-1300.0.29.30)]"
  },
  "orig_nbformat": 4,
  "vscode": {
   "interpreter": {
    "hash": "aee8b7b246df8f9039afb4144a1f6fd8d2ca17a180786b69acc140d282b71a49"
   }
  }
 },
 "nbformat": 4,
 "nbformat_minor": 2
}

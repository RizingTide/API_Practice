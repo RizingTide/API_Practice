{
 "cells": [
  {
   "cell_type": "code",
   "execution_count": 3,
   "metadata": {},
   "outputs": [],
   "source": [
    "import mysql.connector as mysql"
   ]
  },
  {
   "attachments": {},
   "cell_type": "markdown",
   "metadata": {},
   "source": [
    "Open the databse using the connect method"
   ]
  },
  {
   "cell_type": "code",
   "execution_count": 4,
   "metadata": {},
   "outputs": [
    {
     "name": "stdout",
     "output_type": "stream",
     "text": [
      "Connecting to MySQL Database...\n"
     ]
    }
   ],
   "source": [
    "connect = mysql.connect(\n",
    "    host = \"localhost\",\n",
    "    user = \"root\", \n",
    "    password = \"password\", \n",
    "    database = \"classicmodels\"\n",
    ")\n",
    "\n",
    "print(\"Connecting to MySQL Database...\")\n"
   ]
  },
  {
   "attachments": {},
   "cell_type": "markdown",
   "metadata": {},
   "source": [
    "Let's check and see if we made a connection. To do this we create a cursor. It's called the cursor method."
   ]
  },
  {
   "cell_type": "code",
   "execution_count": 10,
   "metadata": {},
   "outputs": [],
   "source": [
    "cursor=connect.cursor()\n",
    "\n",
    "selection = \"SELECT productLine, COUNT(*) \\\n",
    "    FROM products \\\n",
    "    WHERE productLine='{}'\"\n",
    "\n",
    "cursor.execute(selection.format(\"Motorcycles\"))"
   ]
  },
  {
   "attachments": {},
   "cell_type": "markdown",
   "metadata": {},
   "source": [
    "In the cell above we created and excecuted our sql statement. But we have not used any methods to actually access that data from our select statement."
   ]
  },
  {
   "cell_type": "code",
   "execution_count": 11,
   "metadata": {},
   "outputs": [
    {
     "name": "stdout",
     "output_type": "stream",
     "text": [
      "[('Motorcycles', 13)]\n"
     ]
    }
   ],
   "source": [
    "result=cursor.fetchall()\n",
    "print(result)\n",
    "connect.close()"
   ]
  },
  {
   "attachments": {},
   "cell_type": "markdown",
   "metadata": {},
   "source": [
    "That worked nicely. Let's try to make a new database without using the MySQL shell or GUI.\n",
    "NOTE: Strings can be passed directly into execute "
   ]
  },
  {
   "cell_type": "code",
   "execution_count": 14,
   "metadata": {},
   "outputs": [
    {
     "name": "stdout",
     "output_type": "stream",
     "text": [
      "test_db created\n"
     ]
    }
   ],
   "source": [
    "connect = mysql.connect(\n",
    "    user = \"root\", \n",
    "    password = \"password\", \n",
    "    database = \"classicmodels\"\n",
    ")\n",
    "cursor=connect.cursor()\n",
    "\n",
    "cursor.execute(\"CREATE DATABASE test_db\")\n",
    "print(\"test_db created\")\n",
    "\n",
    "connect.close()"
   ]
  },
  {
   "attachments": {},
   "cell_type": "markdown",
   "metadata": {},
   "source": [
    "Let's add a table to the new databse we created"
   ]
  },
  {
   "cell_type": "code",
   "execution_count": 17,
   "metadata": {},
   "outputs": [
    {
     "name": "stdout",
     "output_type": "stream",
     "text": [
      "Registration Table is created\n"
     ]
    }
   ],
   "source": [
    "connect = mysql.connect(\n",
    "    database = \"test_db\",\n",
    "    user = \"root\", \n",
    "    password = \"password\", \n",
    ")\n",
    "cursor=connect.cursor()\n",
    "\n",
    "string= \"CREATE TABLE Registration \\\n",
    "    (id integer, age integer, \\\n",
    "    first VARCHAR(50), last VARCHAR(50))\"\n",
    "\n",
    "cursor.execute(string)\n",
    "\n",
    "print(\"Registration Table is created\")\n",
    "\n",
    "connect.close()"
   ]
  },
  {
   "attachments": {},
   "cell_type": "markdown",
   "metadata": {},
   "source": [
    "Let's insert some data into the Registration table now "
   ]
  },
  {
   "cell_type": "code",
   "execution_count": null,
   "metadata": {},
   "outputs": [],
   "source": []
  }
 ],
 "metadata": {
  "kernelspec": {
   "display_name": "Python 3",
   "language": "python",
   "name": "python3"
  },
  "language_info": {
   "codemirror_mode": {
    "name": "ipython",
    "version": 3
   },
   "file_extension": ".py",
   "mimetype": "text/x-python",
   "name": "python",
   "nbconvert_exporter": "python",
   "pygments_lexer": "ipython3",
   "version": "3.11.0"
  },
  "orig_nbformat": 4,
  "vscode": {
   "interpreter": {
    "hash": "aee8b7b246df8f9039afb4144a1f6fd8d2ca17a180786b69acc140d282b71a49"
   }
  }
 },
 "nbformat": 4,
 "nbformat_minor": 2
}

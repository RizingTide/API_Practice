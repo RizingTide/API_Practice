{
 "cells": [
  {
   "cell_type": "code",
   "execution_count": 1,
   "metadata": {},
   "outputs": [],
   "source": [
    "import mysql.connector as mysql"
   ]
  },
  {
   "attachments": {},
   "cell_type": "markdown",
   "metadata": {},
   "source": [
    "Open the databse using the connect method"
   ]
  },
  {
   "cell_type": "code",
   "execution_count": 2,
   "metadata": {},
   "outputs": [
    {
     "name": "stdout",
     "output_type": "stream",
     "text": [
      "Connecting to MySQL Database...\n"
     ]
    }
   ],
   "source": [
    "connect = mysql.connect(\n",
    "    host = \"localhost\",\n",
    "    user = \"root\", \n",
    "    password = \"password\", \n",
    "    database = \"classicmodels\"\n",
    ")\n",
    "\n",
    "print(\"Connecting to MySQL Database...\")\n"
   ]
  },
  {
   "attachments": {},
   "cell_type": "markdown",
   "metadata": {},
   "source": [
    "Let's check and see if we made a connection. To do this we create a cursor. It's called the cursor method."
   ]
  },
  {
   "cell_type": "code",
   "execution_count": 3,
   "metadata": {},
   "outputs": [],
   "source": [
    "cursor=connect.cursor()\n",
    "\n",
    "selection = \"SELECT productLine, COUNT(*) \\\n",
    "    FROM products \\\n",
    "    WHERE productLine='{}'\"\n",
    "\n",
    "cursor.execute(selection.format(\"Motorcycles\"))"
   ]
  },
  {
   "attachments": {},
   "cell_type": "markdown",
   "metadata": {},
   "source": [
    "In the cell above we created and excecuted our sql statement. But we have not used any methods to actually access that data from our select statement."
   ]
  },
  {
   "cell_type": "code",
   "execution_count": 4,
   "metadata": {},
   "outputs": [
    {
     "name": "stdout",
     "output_type": "stream",
     "text": [
      "[('Motorcycles', 13)]\n"
     ]
    }
   ],
   "source": [
    "result=cursor.fetchall()\n",
    "print(result)\n",
    "connect.close()"
   ]
  },
  {
   "attachments": {},
   "cell_type": "markdown",
   "metadata": {},
   "source": [
    "That worked nicely. Let's try to make a new database without using the MySQL shell or GUI.\n",
    "NOTE: Strings can be passed directly into execute "
   ]
  },
  {
   "cell_type": "code",
   "execution_count": null,
   "metadata": {},
   "outputs": [],
   "source": [
    "connect = mysql.connect(\n",
    "    user = \"root\", \n",
    "    password = \"password\", \n",
    "    database = \"classicmodels\"\n",
    ")\n",
    "cursor=connect.cursor()\n",
    "\n",
    "cursor.execute(\"CREATE DATABASE test_db\")\n",
    "print(\"test_db created\")\n",
    "\n",
    "connect.close()"
   ]
  },
  {
   "attachments": {},
   "cell_type": "markdown",
   "metadata": {},
   "source": [
    "Let's add a table to the new databse we created"
   ]
  },
  {
   "cell_type": "code",
   "execution_count": null,
   "metadata": {},
   "outputs": [],
   "source": [
    "connect = mysql.connect(\n",
    "    database = \"test_db\",\n",
    "    user = \"root\", \n",
    "    password = \"password\", \n",
    ")\n",
    "cursor=connect.cursor()\n",
    "\n",
    "string= \"CREATE TABLE Registration \\\n",
    "    (id integer, age integer, \\\n",
    "    first VARCHAR(50), last VARCHAR(50))\"\n",
    "\n",
    "cursor.execute(string)\n",
    "\n",
    "print(\"Registration Table is created\")\n",
    "\n",
    "connect.close()"
   ]
  },
  {
   "attachments": {},
   "cell_type": "markdown",
   "metadata": {},
   "source": [
    "Let's insert some data into the Registration table now \n",
    "DDL Data Definition Language (Create, Drop, Alter)\n",
    "DML Data Manipulation Language (SELECT)\n",
    "DQL Data Query Language (Insert, Update, Delete)"
   ]
  },
  {
   "cell_type": "code",
   "execution_count": 8,
   "metadata": {},
   "outputs": [],
   "source": [
    "string=\"INSERT INTO Registration \\\n",
    "    (id, age, first, last) VALUES \\\n",
    "    (100, 29, 'Michael', 'Jordan'), \\\n",
    "    (101, 29, 'Diego', 'Maradona'), \\\n",
    "    (102, 33, 'Babe', 'Ruth'), \\\n",
    "    (103, 40, 'Wayne', 'Gretzky'), \\\n",
    "    (104, 27, 'Michelle', 'Kwan'), \\\n",
    "    (105, 35, 'Steffi', 'Graf')\"\n",
    "\n",
    "\n",
    "connect = mysql.connect(\n",
    "    database = \"test_db\",\n",
    "    host= \"localhost\",\n",
    "    user = \"root\", \n",
    "    password = \"password\", \n",
    ")\n",
    "cursor=connect.cursor()\n",
    "cursor.execute(string)\n",
    "connect.commit()\n",
    "\n",
    "connect.close()"
   ]
  },
  {
   "attachments": {},
   "cell_type": "markdown",
   "metadata": {},
   "source": [
    "Lets check the values we just inputted without using the gui "
   ]
  },
  {
   "cell_type": "code",
   "execution_count": 14,
   "metadata": {},
   "outputs": [
    {
     "name": "stdout",
     "output_type": "stream",
     "text": [
      "ID: 100, AGE: 29, FIRST: Michael, LAST: Jordan\n",
      "ID: 101, AGE: 29, FIRST: Diego, LAST: Maradona\n",
      "ID: 102, AGE: 33, FIRST: Babe, LAST: Ruth\n",
      "ID: 103, AGE: 40, FIRST: Wayne, LAST: Gretzky\n",
      "ID: 104, AGE: 27, FIRST: Michelle, LAST: Kwan\n",
      "ID: 105, AGE: 35, FIRST: Steffi, LAST: Graf\n"
     ]
    }
   ],
   "source": [
    "connect = mysql.connect(\n",
    "    database = \"test_db\",\n",
    "    host= \"localhost\",\n",
    "    user = \"root\", \n",
    "    password = \"password\", \n",
    ")\n",
    "cursor=connect.cursor()\n",
    "\n",
    "string=\"SELECT * FROM Registration\"\n",
    "cursor.execute(string)\n",
    "\n",
    "for item in cursor:\n",
    "    print(\"ID: {}, AGE: {}, FIRST: {}, LAST: {}\".format(item[0],item[1],item[2],item[3])) \n",
    "\n",
    "# another way:\n",
    "# result=cursor.fetchall()\n",
    "# print(result)\n",
    "connect.close()"
   ]
  },
  {
   "cell_type": "code",
   "execution_count": 19,
   "metadata": {},
   "outputs": [
    {
     "name": "stdout",
     "output_type": "stream",
     "text": [
      "ID: 100, AGE: 29, FIRST: Michael, LAST: Jordan\n",
      "ID: 104, AGE: 27, FIRST: Michelle, LAST: Kwan\n"
     ]
    }
   ],
   "source": [
    "connect = mysql.connect(\n",
    "    database = \"test_db\",\n",
    "    host= \"localhost\",\n",
    "    user = \"root\", \n",
    "    password = \"password\", \n",
    ")\n",
    "cursor=connect.cursor()\n",
    "\n",
    "string=\"SELECT * FROM Registration WHERE FIRST LIKE '%ich%'\"\n",
    "cursor.execute(string)\n",
    "\n",
    "for item in cursor:\n",
    "    print(\"ID: {}, AGE: {}, FIRST: {}, LAST: {}\".format(item[0],item[1],item[2],item[3])) \n",
    "\n",
    "connect.close()\n"
   ]
  },
  {
   "attachments": {},
   "cell_type": "markdown",
   "metadata": {},
   "source": [
    "Let's do an update now"
   ]
  },
  {
   "cell_type": "code",
   "execution_count": 20,
   "metadata": {},
   "outputs": [
    {
     "name": "stdout",
     "output_type": "stream",
     "text": [
      "Values are Updated\n"
     ]
    }
   ],
   "source": [
    "connect = mysql.connect(\n",
    "    database = \"test_db\",\n",
    "    host= \"localhost\",\n",
    "    user = \"root\", \n",
    "    password = \"password\", \n",
    ")\n",
    "cursor=connect.cursor()\n",
    "string= \"UPDATE Registration \\\n",
    "        SET age=30 WHERE id in (100,101)\"\n",
    "cursor.execute(string)\n",
    "connect.commit()\n",
    "print(\"Values are Updated\")\n",
    "connect.close()"
   ]
  },
  {
   "attachments": {},
   "cell_type": "markdown",
   "metadata": {},
   "source": [
    "generate_user_table():\n",
    "➢ Establish a connection to the test_db.\n",
    "➢ Create a user table with the following fields:\n",
    "▶ email varchar(100)\n",
    "▶ name varchar(50)\n",
    "▶ password varchar(30)\n",
    "➢ Insert the following values into the table:\n",
    "▶ 'ywbaek@perscholas.org', 'young', 'letsgomets'\n",
    "▶ 'mcordon@perscholas.org', 'marcial', 'perscholas'\n",
    "▶ 'mhaseeb@perscholas.org', 'haseeb', 'platform'"
   ]
  },
  {
   "cell_type": "code",
   "execution_count": 38,
   "metadata": {},
   "outputs": [
    {
     "name": "stdout",
     "output_type": "stream",
     "text": [
      "Values are inserted\n"
     ]
    }
   ],
   "source": [
    "def generate_user_table():\n",
    "    connect = mysql.connect(\n",
    "    database = \"test_db\",\n",
    "    host= \"localhost\",\n",
    "    user = \"root\", \n",
    "    password = \"password\", \n",
    "    )\n",
    "    cursor=connect.cursor()\n",
    "    string1=\"CREATE TABLE user_table \\\n",
    "    (email VARCHAR(100), name VARCHAR(50), password VARCHAR(30))\"\n",
    "    try:\n",
    "        cursor.execute(string1)\n",
    "    except mysql.Error as err:\n",
    "        print(\"\")\n",
    "    string2=\"INSERT INTO user_table \\\n",
    "    (email, name, password) VALUES \\\n",
    "    ('ywbaek@perscholas.org', 'young', 'letsgomets'),\\\n",
    "    ('mcordon@perscholas.org', 'marcial', 'perscholas'),\\\n",
    "    ('mhaseeb@perscholas.org', 'haseeb', 'platform')\"\n",
    "    cursor.execute(string2)\n",
    "    connect.commit()\n",
    "    print(\"Values are inserted\")\n",
    "    connect.close()\n",
    "\n",
    "generate_user_table()"
   ]
  },
  {
   "attachments": {},
   "cell_type": "markdown",
   "metadata": {},
   "source": [
    "    get_all_users():\n",
    "        ➢ Establish a connection to the test_db.\n",
    "        ➢ Print out the email, name, and password of all users."
   ]
  },
  {
   "cell_type": "code",
   "execution_count": 39,
   "metadata": {},
   "outputs": [
    {
     "name": "stdout",
     "output_type": "stream",
     "text": [
      "[('ywbaek@perscholas.org', 'young', 'letsgomets'), ('mcordon@perscholas.org', 'marcial', 'perscholas'), ('mhaseeb@perscholas.org', 'haseeb', 'platform')]\n"
     ]
    }
   ],
   "source": [
    "def get_all_users():\n",
    "    connect = mysql.connect(\n",
    "    database = \"test_db\",\n",
    "    host= \"localhost\",\n",
    "    user = \"root\", \n",
    "    password = \"password\", \n",
    "    )\n",
    "    cursor=connect.cursor()\n",
    "    string=\"SElECT * FROM test_db.user_table\"\n",
    "    cursor.execute(string)\n",
    "    result=cursor.fetchall()\n",
    "    print(result)\n",
    "\n",
    "get_all_users()"
   ]
  },
  {
   "attachments": {},
   "cell_type": "markdown",
   "metadata": {},
   "source": [
    "    get_user_by_name(name):\n",
    "        ➢ Establish a connection to the test_db.\n",
    "        ➢ Print out the email and password of the user with the given name."
   ]
  },
  {
   "cell_type": "code",
   "execution_count": 79,
   "metadata": {},
   "outputs": [
    {
     "name": "stdout",
     "output_type": "stream",
     "text": [
      "young\n",
      "name: young email:ywbaek@perscholas.org password: letsgomets\n"
     ]
    }
   ],
   "source": [
    "def get_user_by_name(name):\n",
    "    print(name)\n",
    "    connect = mysql.connect(\n",
    "    database = \"test_db\",\n",
    "    host= \"localhost\",\n",
    "    user = \"root\", \n",
    "    password = \"password\", \n",
    "    )\n",
    "    cursor=connect.cursor()\n",
    "    string=\"SELECT * FROM test_db.user_table WHERE name ='{}'\"\n",
    "    cursor.execute(string.format(name))\n",
    "    # result=cursor.fetchall()\n",
    "    # print(result)\n",
    "    for i in cursor:\n",
    "        print(\"name: {} email:{} password: {}\".format(i[1], i[0], i[2]))\n",
    "\n",
    "get_user_by_name('young')"
   ]
  },
  {
   "attachments": {},
   "cell_type": "markdown",
   "metadata": {},
   "source": [
    "    validate_user(email, password):\n",
    "        ➢ Establish a connection to the test_db.\n",
    "        ➢ Return True if a user exists with the given email and password. Return False otherwise."
   ]
  },
  {
   "cell_type": "code",
   "execution_count": 80,
   "metadata": {},
   "outputs": [
    {
     "name": "stdout",
     "output_type": "stream",
     "text": [
      "[('TRUE',)]\n"
     ]
    }
   ],
   "source": [
    "def validate_user(email2, password2):\n",
    "    connect = mysql.connect(\n",
    "    database = \"test_db\",\n",
    "    host= \"localhost\",\n",
    "    user = \"root\", \n",
    "    password = \"password\", \n",
    "    )\n",
    "    cursor=connect.cursor()\n",
    "    string= \"SELECT CASE WHEN EXISTS (SELECT * FROM test_db.user_table WHERE email='{}' AND password='{}') \\\n",
    "            THEN 'TRUE' \\\n",
    "            ELSE 'FALSE' \\\n",
    "            END\"\n",
    "    cursor.execute(string.format(email2, password2))\n",
    "    result=cursor.fetchall()\n",
    "    return result\n",
    "\n",
    "print(validate_user('ywbaek@perscholas.org', 'letsgomets'))"
   ]
  },
  {
   "attachments": {},
   "cell_type": "markdown",
   "metadata": {},
   "source": [
    "    update_user(email, name, password):\n",
    "        ➢ Establish a connection to the test_db.\n",
    "        ➢ For the user with the given email, set the values of\n",
    "        name and password to the given name and\n",
    "        password.\n",
    "        ➢ Return True if successful, False otherwise."
   ]
  },
  {
   "cell_type": "code",
   "execution_count": 88,
   "metadata": {},
   "outputs": [
    {
     "data": {
      "text/plain": [
       "True"
      ]
     },
     "execution_count": 88,
     "metadata": {},
     "output_type": "execute_result"
    }
   ],
   "source": [
    "def update_user(email, name, password):\n",
    "    connect = mysql.connect(\n",
    "    database = \"test_db\",\n",
    "    host= \"localhost\",\n",
    "    user = \"root\", \n",
    "    password = \"password\", \n",
    "    )\n",
    "    cursor=connect.cursor()\n",
    "    string=\"UPDATE test_db.user_table \\\n",
    "            SET name = '{}', password = '{}' WHERE email= '{}'\"\n",
    "    try:\n",
    "        cursor.execute(string.format(name, password, email))\n",
    "        return True \n",
    "    except:\n",
    "        return False\n",
    "\n",
    "update_user(\"ywbaek@perscholas.org\", \"young123\", \"helllllo\")\n"
   ]
  }
 ],
 "metadata": {
  "kernelspec": {
   "display_name": "Python 3",
   "language": "python",
   "name": "python3"
  },
  "language_info": {
   "codemirror_mode": {
    "name": "ipython",
    "version": 3
   },
   "file_extension": ".py",
   "mimetype": "text/x-python",
   "name": "python",
   "nbconvert_exporter": "python",
   "pygments_lexer": "ipython3",
   "version": "3.11.0"
  },
  "orig_nbformat": 4,
  "vscode": {
   "interpreter": {
    "hash": "aee8b7b246df8f9039afb4144a1f6fd8d2ca17a180786b69acc140d282b71a49"
   }
  }
 },
 "nbformat": 4,
 "nbformat_minor": 2
}
